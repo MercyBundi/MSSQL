{
 "cells": [
  {
   "cell_type": "markdown",
   "id": "9410ef55-e829-4831-a7b3-a02f78903107",
   "metadata": {},
   "source": [
    "# Analyze text and perform NLP(Natural Language Processing) tasks"
   ]
  },
  {
   "cell_type": "code",
   "execution_count": 2,
   "id": "6bb2d4a1-1489-4090-a45c-65a549ac627a",
   "metadata": {},
   "outputs": [],
   "source": [
    "# Importing neccessary packages\n",
    "\n",
    "import pyodbc             # Connect to SQL Server and load data\n",
    "import pandas as pd\n",
    "import nltk               # Analyze text and perform NLP tasks\n",
    "from nltk.sentiment import SentimentIntensityAnalyzer\n"
   ]
  },
  {
   "cell_type": "code",
   "execution_count": 3,
   "id": "41173116-eff4-4ea1-9ff9-7225094e21f8",
   "metadata": {},
   "outputs": [],
   "source": [
    "import warnings\n",
    "warnings.filterwarnings(\"ignore\")"
   ]
  },
  {
   "cell_type": "code",
   "execution_count": 4,
   "id": "778af4da-59bc-4b2a-ae88-18e697cce1f4",
   "metadata": {},
   "outputs": [
    {
     "name": "stderr",
     "output_type": "stream",
     "text": [
      "[nltk_data] Downloading package vader_lexicon to\n",
      "[nltk_data]     C:\\Users\\MERCY\\AppData\\Roaming\\nltk_data...\n",
      "[nltk_data]   Package vader_lexicon is already up-to-date!\n"
     ]
    },
    {
     "data": {
      "text/plain": [
       "True"
      ]
     },
     "execution_count": 4,
     "metadata": {},
     "output_type": "execute_result"
    }
   ],
   "source": [
    "# Download sentiment lexicon (run once)\n",
    "\n",
    "nltk.download('vader_lexicon')"
   ]
  },
  {
   "cell_type": "markdown",
   "id": "0673cc55-2823-4c2f-bae8-4d5bb5c874d0",
   "metadata": {},
   "source": [
    "**This is a general function that connects to the sql server, where you can call any table**\n",
    "\n",
    "* Create a connection to SQL Server\n",
    "* **DRIVER:** the database driver to use (SQL Server)\n",
    "* **SERVER:** your local machine name and SQL Server instance\n",
    "* **DATABASE:** database name (passed as a function argument)\n",
    "* **Trusted_Connection=yes** means it uses Windows Authentication instead of username/password\n",
    "\n",
    "def fetch_data(query, database=\"Marketing_Analytics\"):\n",
    "\n",
    "    conn = pyodbc.connect(\n",
    "    \n",
    "        f'DRIVER={{SQL Server}};\n",
    "          SERVER=DESKTOP-0G79JHF\\\\SQLEXPRESS;\n",
    "          DATABASE={database};\n",
    "          Trusted_Connection=yes;'\n",
    "    )\n",
    "    df = pd.read_sql(query, conn)\n",
    "    conn.close()\n",
    "    return df\n",
    "\n",
    "**Now you can reuse it:**\n",
    "\n",
    "reviews = fetch_data(\"SELECT * FROM dbo.customer_reviews;\")\n",
    "\n",
    "customers = fetch_data(\"SELECT * FROM dbo.customer_data;\")"
   ]
  },
  {
   "cell_type": "code",
   "execution_count": 5,
   "id": "caabce75-9628-43da-94af-66ca9b948a28",
   "metadata": {},
   "outputs": [],
   "source": [
    "# Define a function that will connect to SQL Server, run a query, and return the results as a DataFrame\n",
    "\n",
    "def fetch_data(query, database=\"Marketing_Analytics\"):\n",
    "    conn_str = (\n",
    "        f'DRIVER={{SQL Server}};'\n",
    "        f'SERVER=DESKTOP-0G79JHF\\\\SQLEXPRESS;'\n",
    "        f'DATABASE={database};'\n",
    "        'Trusted_Connection=yes;'\n",
    "    )\n",
    "\n",
    "    #connect and query\n",
    "    conn = pyodbc.connect(conn_str)    # Connect to SQL Server using the connection string\n",
    "    df = pd.read_sql(query, conn)      # Execute the query and load the result into a pandas DataFrame\n",
    "    conn.close                         # Close the connection after use\n",
    "    return df                          # Return the DataFrame\n"
   ]
  },
  {
   "cell_type": "code",
   "execution_count": 6,
   "id": "24fcc8f3-57fb-4c70-a419-3186003a2807",
   "metadata": {},
   "outputs": [
    {
     "data": {
      "text/html": [
       "<div>\n",
       "<style scoped>\n",
       "    .dataframe tbody tr th:only-of-type {\n",
       "        vertical-align: middle;\n",
       "    }\n",
       "\n",
       "    .dataframe tbody tr th {\n",
       "        vertical-align: top;\n",
       "    }\n",
       "\n",
       "    .dataframe thead th {\n",
       "        text-align: right;\n",
       "    }\n",
       "</style>\n",
       "<table border=\"1\" class=\"dataframe\">\n",
       "  <thead>\n",
       "    <tr style=\"text-align: right;\">\n",
       "      <th></th>\n",
       "      <th>ReviewID</th>\n",
       "      <th>CustomerID</th>\n",
       "      <th>ProductID</th>\n",
       "      <th>ReviewDate</th>\n",
       "      <th>Rating</th>\n",
       "      <th>ReviewText</th>\n",
       "    </tr>\n",
       "  </thead>\n",
       "  <tbody>\n",
       "    <tr>\n",
       "      <th>0</th>\n",
       "      <td>1</td>\n",
       "      <td>77</td>\n",
       "      <td>18</td>\n",
       "      <td>2023-12-23</td>\n",
       "      <td>3</td>\n",
       "      <td>Average experience, nothing special.</td>\n",
       "    </tr>\n",
       "    <tr>\n",
       "      <th>1</th>\n",
       "      <td>2</td>\n",
       "      <td>80</td>\n",
       "      <td>19</td>\n",
       "      <td>2024-12-25</td>\n",
       "      <td>5</td>\n",
       "      <td>The quality is  top-notch.</td>\n",
       "    </tr>\n",
       "    <tr>\n",
       "      <th>2</th>\n",
       "      <td>3</td>\n",
       "      <td>50</td>\n",
       "      <td>13</td>\n",
       "      <td>2025-01-26</td>\n",
       "      <td>4</td>\n",
       "      <td>Five stars for the quick delivery.</td>\n",
       "    </tr>\n",
       "    <tr>\n",
       "      <th>3</th>\n",
       "      <td>4</td>\n",
       "      <td>78</td>\n",
       "      <td>15</td>\n",
       "      <td>2025-04-21</td>\n",
       "      <td>3</td>\n",
       "      <td>Good quality, but could be cheaper.</td>\n",
       "    </tr>\n",
       "    <tr>\n",
       "      <th>4</th>\n",
       "      <td>5</td>\n",
       "      <td>64</td>\n",
       "      <td>2</td>\n",
       "      <td>2023-07-16</td>\n",
       "      <td>3</td>\n",
       "      <td>Average experience, nothing special.</td>\n",
       "    </tr>\n",
       "  </tbody>\n",
       "</table>\n",
       "</div>"
      ],
      "text/plain": [
       "   ReviewID  CustomerID  ProductID  ReviewDate  Rating  \\\n",
       "0         1          77         18  2023-12-23       3   \n",
       "1         2          80         19  2024-12-25       5   \n",
       "2         3          50         13  2025-01-26       4   \n",
       "3         4          78         15  2025-04-21       3   \n",
       "4         5          64          2  2023-07-16       3   \n",
       "\n",
       "                             ReviewText  \n",
       "0  Average experience, nothing special.  \n",
       "1            The quality is  top-notch.  \n",
       "2    Five stars for the quick delivery.  \n",
       "3   Good quality, but could be cheaper.  \n",
       "4  Average experience, nothing special.  "
      ]
     },
     "execution_count": 6,
     "metadata": {},
     "output_type": "execute_result"
    }
   ],
   "source": [
    "# Fetch the customer reviews from the SQL Database\n",
    "\n",
    "customer_reviews_df = fetch_data('SELECT * FROM dbo.customer_reviews_cleaned')\n",
    "customer_reviews_df.head()"
   ]
  },
  {
   "cell_type": "code",
   "execution_count": 7,
   "id": "9df740b7-cb95-40d9-8fc1-8661bbc9b40d",
   "metadata": {},
   "outputs": [],
   "source": [
    "# Creating an object that calls the analyzer known as SentimentIntensityAnalyzer()\n",
    "\n",
    "sia = SentimentIntensityAnalyzer()"
   ]
  },
  {
   "cell_type": "code",
   "execution_count": 8,
   "id": "3259dd41-5177-430f-a1a7-4aecf1c823c1",
   "metadata": {},
   "outputs": [
    {
     "name": "stdout",
     "output_type": "stream",
     "text": [
      "This product is terrible and broke on the first day.\n",
      "{'neg': 0.424, 'neu': 0.576, 'pos': 0.0, 'compound': -0.7096}\n",
      "\n",
      "It’s okay, not great but not bad either.\n",
      "{'neg': 0.174, 'neu': 0.404, 'pos': 0.422, 'compound': 0.4728}\n",
      "\n",
      "Absolutely fantastic! Highly recommend it.\n",
      "{'neg': 0.0, 'neu': 0.293, 'pos': 0.707, 'compound': 0.8043}\n",
      "\n"
     ]
    }
   ],
   "source": [
    "# Example of how the sia works\n",
    "\n",
    "reviews = [\n",
    "    \"This product is terrible and broke on the first day.\",\n",
    "    \"It’s okay, not great but not bad either.\",\n",
    "    \"Absolutely fantastic! Highly recommend it.\"\n",
    "]\n",
    "\n",
    "for r in reviews:\n",
    "    print(r)\n",
    "    print(sia.polarity_scores(r))\n",
    "    print()\n"
   ]
  },
  {
   "cell_type": "code",
   "execution_count": 9,
   "id": "7a5888ec-fff6-481b-b3f9-71653907f423",
   "metadata": {},
   "outputs": [],
   "source": [
    "# Define a function to calculate sentiment scores using VADER\n",
    "def calculate_sentiment(review):\n",
    "    # Get the sentiment scores for the review text\n",
    "    sentiment = sia.polarity_scores(review)\n",
    "    # Return the compound score, which is a normalized score between -1 (most negative) and 1 (most positive)\n",
    "    return sentiment['compound']"
   ]
  },
  {
   "cell_type": "code",
   "execution_count": 10,
   "id": "9df50df2-e3da-48f3-b715-a3f48683c976",
   "metadata": {},
   "outputs": [],
   "source": [
    "# Define a function to categorize sentiment using both the sentiment score and the review rating\n",
    "def categorize_sentiment(score, rating):\n",
    "    # Use both the text sentiment score and the numerical rating to determine sentiment category\n",
    "    if score > 0.05:  # Positive sentiment score\n",
    "        if rating >= 4:\n",
    "            return 'Positive'  # High rating and positive sentiment\n",
    "        elif rating == 3:\n",
    "            return 'Mixed Positive'  # Neutral rating but positive sentiment\n",
    "        else:\n",
    "            return 'Mixed Negative'  # Low rating but positive sentiment\n",
    "    elif score < -0.05:  # Negative sentiment score\n",
    "        if rating <= 2:\n",
    "            return 'Negative'  # Low rating and negative sentiment\n",
    "        elif rating == 3:\n",
    "            return 'Mixed Negative'  # Neutral rating but negative sentiment\n",
    "        else:\n",
    "            return 'Mixed Positive'  # High rating but negative sentiment\n",
    "    else:  # Neutral sentiment score\n",
    "        if rating >= 4:\n",
    "            return 'Positive'  # High rating with neutral sentiment\n",
    "        elif rating <= 2:\n",
    "            return 'Negative'  # Low rating with neutral sentiment\n",
    "        else:\n",
    "            return 'Neutral'  # Neutral rating and neutral sentiment"
   ]
  },
  {
   "cell_type": "code",
   "execution_count": 14,
   "id": "bc19c112-6f56-4e22-b2ed-aac9b7f09da2",
   "metadata": {},
   "outputs": [],
   "source": [
    "# Define a function to bucket sentiment scores into text ranges\n",
    "def sentiment_bucket(score):\n",
    "    if score >= 0.5:\n",
    "        return '0.5 to 1.0'  # Strongly positive sentiment\n",
    "    elif 0.0 <= score < 0.5:\n",
    "        return '0.0 to 0.49'  # Mildly positive sentiment\n",
    "    elif -0.5 <= score < 0.0:\n",
    "        return '-0.49 to 0.0'  # Mildly negative sentiment\n",
    "    else:\n",
    "        return '-1.0 to -0.5'  # Strongly negative sentiment"
   ]
  },
  {
   "cell_type": "code",
   "execution_count": 11,
   "id": "10c89a2f-6a21-4c2e-b466-5380409adbbe",
   "metadata": {},
   "outputs": [],
   "source": [
    "# Apply sentiment analysis to calculate sentiment scores for each review\n",
    "    # calculate_sentiment, is the function we created to give us the score\n",
    "    # here we want to create a column that stores the score for each review\n",
    "\n",
    "    # apply() is used to apply a function to each row\n",
    "\n",
    "customer_reviews_df['SentimentScore'] = customer_reviews_df['ReviewText'].apply(calculate_sentiment)"
   ]
  },
  {
   "cell_type": "code",
   "execution_count": 12,
   "id": "0ada9b5a-21ac-4094-ac35-10911961b850",
   "metadata": {},
   "outputs": [],
   "source": [
    "# Apply sentiment categorization using both text and rating\n",
    "    # Creating a column for the SentimentCategory\n",
    "\n",
    "    # lamda is used to define an expression,that is, lambda x:expression, means \"for each value x, return this result\n",
    "\n",
    "\n",
    "# Create a new column 'SentimentCategory' by applying a custom function to each row.\n",
    "# The lambda function passes both 'SentimentScore' and 'Rating' from each row to the 'categorize_sentiment' function.\n",
    "# The 'axis=1' ensures that the function is applied row by row (not column by column).\n",
    "# This helps combine both sentiment score and rating to assign a meaningful sentiment category.\n",
    "\n",
    "\n",
    "customer_reviews_df['SentimentCategory'] = customer_reviews_df.apply(\n",
    "    lambda row: categorize_sentiment(row['SentimentScore'], row['Rating']), axis=1)"
   ]
  },
  {
   "cell_type": "code",
   "execution_count": 15,
   "id": "d55669ca-b2f8-4974-887d-cfac50758826",
   "metadata": {},
   "outputs": [],
   "source": [
    "# Apply sentiment bucketing to categorize scores into defined ranges\n",
    "\n",
    "customer_reviews_df['SentimentBucket'] = customer_reviews_df['SentimentScore'].apply(sentiment_bucket)"
   ]
  },
  {
   "cell_type": "code",
   "execution_count": 16,
   "id": "d6d7f8bc-7d05-4cc6-ad90-4a371f906956",
   "metadata": {},
   "outputs": [
    {
     "name": "stdout",
     "output_type": "stream",
     "text": [
      "   ReviewID  CustomerID  ProductID  ReviewDate  Rating  \\\n",
      "0         1          77         18  2023-12-23       3   \n",
      "1         2          80         19  2024-12-25       5   \n",
      "2         3          50         13  2025-01-26       4   \n",
      "3         4          78         15  2025-04-21       3   \n",
      "4         5          64          2  2023-07-16       3   \n",
      "\n",
      "                             ReviewText  SentimentScore SentimentCategory  \\\n",
      "0  Average experience, nothing special.         -0.3089    Mixed Negative   \n",
      "1            The quality is  top-notch.          0.0000          Positive   \n",
      "2    Five stars for the quick delivery.          0.0000          Positive   \n",
      "3   Good quality, but could be cheaper.          0.2382    Mixed Positive   \n",
      "4  Average experience, nothing special.         -0.3089    Mixed Negative   \n",
      "\n",
      "  SentimentBucket  \n",
      "0    -0.49 to 0.0  \n",
      "1     0.0 to 0.49  \n",
      "2     0.0 to 0.49  \n",
      "3     0.0 to 0.49  \n",
      "4    -0.49 to 0.0  \n"
     ]
    }
   ],
   "source": [
    "# Display the first few rows of the DataFrame with sentiment scores, categories, and buckets\n",
    "\n",
    "print(customer_reviews_df.head())"
   ]
  },
  {
   "cell_type": "code",
   "execution_count": 18,
   "id": "8b259b7b-98c2-4358-93c2-5eeec6e2bca2",
   "metadata": {},
   "outputs": [],
   "source": [
    "# Save the DataFrame with sentiment scores, categories, and buckets to a new CSV file\n",
    "\n",
    "customer_reviews_df.to_csv('customer_reviews_cleaned_with_sentiment.csv', index=False)"
   ]
  },
  {
   "cell_type": "code",
   "execution_count": null,
   "id": "68906ed3-7bda-4bab-bd9b-b58d20193c31",
   "metadata": {},
   "outputs": [],
   "source": []
  },
  {
   "cell_type": "code",
   "execution_count": null,
   "id": "fa63a3eb-d1e3-4fbe-886f-fb4120a515cd",
   "metadata": {},
   "outputs": [],
   "source": []
  }
 ],
 "metadata": {
  "kernelspec": {
   "display_name": "Python 3 (ipykernel)",
   "language": "python",
   "name": "python3"
  },
  "language_info": {
   "codemirror_mode": {
    "name": "ipython",
    "version": 3
   },
   "file_extension": ".py",
   "mimetype": "text/x-python",
   "name": "python",
   "nbconvert_exporter": "python",
   "pygments_lexer": "ipython3",
   "version": "3.12.7"
  }
 },
 "nbformat": 4,
 "nbformat_minor": 5
}
